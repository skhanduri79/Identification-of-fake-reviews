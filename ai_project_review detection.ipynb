{
 "cells": [
  {
   "cell_type": "code",
   "execution_count": 1,
   "id": "a8df7c11-9a03-45d0-8120-07fc1c1b1a4e",
   "metadata": {},
   "outputs": [],
   "source": [
    "import numpy as np\n",
    "import pandas as pd\n",
    "import seaborn as sns\n",
    "import matplotlib.pyplot as plt"
   ]
  },
  {
   "cell_type": "code",
   "execution_count": 2,
   "id": "25e445f9-3028-4e76-a040-1cfe1e184fb2",
   "metadata": {},
   "outputs": [],
   "source": [
    "import warnings, string\n",
    "warnings.filterwarnings('ignore')\n",
    "from sklearn.model_selection import train_test_split, GridSearchCV\n",
    "from sklearn.metrics import classification_report, confusion_matrix, accuracy_score\n",
    "import nltk\n",
    "from nltk.corpus import stopwords\n",
    "from sklearn.feature_extraction.text import CountVectorizer, TfidfTransformer\n",
    "from collections import Counter"
   ]
  },
  {
   "cell_type": "code",
   "execution_count": 3,
   "id": "1ca06b2b-b27d-4ea2-8d46-17de2db55507",
   "metadata": {},
   "outputs": [],
   "source": [
    "df=pd.read_csv('preprocessed reviews dataset.csv')"
   ]
  },
  {
   "cell_type": "code",
   "execution_count": 4,
   "id": "ebe816cf-7296-49e2-a1ac-96cfc447f20a",
   "metadata": {},
   "outputs": [
    {
     "data": {
      "text/html": [
       "<div>\n",
       "<style scoped>\n",
       "    .dataframe tbody tr th:only-of-type {\n",
       "        vertical-align: middle;\n",
       "    }\n",
       "\n",
       "    .dataframe tbody tr th {\n",
       "        vertical-align: top;\n",
       "    }\n",
       "\n",
       "    .dataframe thead th {\n",
       "        text-align: right;\n",
       "    }\n",
       "</style>\n",
       "<table border=\"1\" class=\"dataframe\">\n",
       "  <thead>\n",
       "    <tr style=\"text-align: right;\">\n",
       "      <th></th>\n",
       "      <th>Unnamed: 0</th>\n",
       "      <th>category</th>\n",
       "      <th>rating</th>\n",
       "      <th>label</th>\n",
       "      <th>text_</th>\n",
       "    </tr>\n",
       "  </thead>\n",
       "  <tbody>\n",
       "    <tr>\n",
       "      <th>0</th>\n",
       "      <td>0</td>\n",
       "      <td>Home_and_Kitchen_5</td>\n",
       "      <td>5.0</td>\n",
       "      <td>CG</td>\n",
       "      <td>love well made sturdi comfort i love veri pretti</td>\n",
       "    </tr>\n",
       "    <tr>\n",
       "      <th>1</th>\n",
       "      <td>1</td>\n",
       "      <td>Home_and_Kitchen_5</td>\n",
       "      <td>5.0</td>\n",
       "      <td>CG</td>\n",
       "      <td>love great upgrad origin i 've mine coupl year</td>\n",
       "    </tr>\n",
       "    <tr>\n",
       "      <th>2</th>\n",
       "      <td>2</td>\n",
       "      <td>Home_and_Kitchen_5</td>\n",
       "      <td>5.0</td>\n",
       "      <td>CG</td>\n",
       "      <td>thi pillow save back i love look feel pillow</td>\n",
       "    </tr>\n",
       "    <tr>\n",
       "      <th>3</th>\n",
       "      <td>3</td>\n",
       "      <td>Home_and_Kitchen_5</td>\n",
       "      <td>1.0</td>\n",
       "      <td>CG</td>\n",
       "      <td>miss inform use great product price i</td>\n",
       "    </tr>\n",
       "    <tr>\n",
       "      <th>4</th>\n",
       "      <td>4</td>\n",
       "      <td>Home_and_Kitchen_5</td>\n",
       "      <td>5.0</td>\n",
       "      <td>CG</td>\n",
       "      <td>veri nice set good qualiti we set two month</td>\n",
       "    </tr>\n",
       "  </tbody>\n",
       "</table>\n",
       "</div>"
      ],
      "text/plain": [
       "   Unnamed: 0            category  rating label  \\\n",
       "0           0  Home_and_Kitchen_5     5.0    CG   \n",
       "1           1  Home_and_Kitchen_5     5.0    CG   \n",
       "2           2  Home_and_Kitchen_5     5.0    CG   \n",
       "3           3  Home_and_Kitchen_5     1.0    CG   \n",
       "4           4  Home_and_Kitchen_5     5.0    CG   \n",
       "\n",
       "                                              text_  \n",
       "0  love well made sturdi comfort i love veri pretti  \n",
       "1    love great upgrad origin i 've mine coupl year  \n",
       "2      thi pillow save back i love look feel pillow  \n",
       "3             miss inform use great product price i  \n",
       "4       veri nice set good qualiti we set two month  "
      ]
     },
     "execution_count": 4,
     "metadata": {},
     "output_type": "execute_result"
    }
   ],
   "source": [
    "df.head()"
   ]
  },
  {
   "cell_type": "code",
   "execution_count": 5,
   "id": "e7848acc-77b8-4a3a-9972-81f9e6aa57f6",
   "metadata": {},
   "outputs": [],
   "source": [
    "df.drop('Unnamed: 0',axis=1,inplace=True)"
   ]
  },
  {
   "cell_type": "code",
   "execution_count": 6,
   "id": "2ffe03e6-227a-4d2d-9461-8072ee7ebd6a",
   "metadata": {},
   "outputs": [
    {
     "data": {
      "text/html": [
       "<div>\n",
       "<style scoped>\n",
       "    .dataframe tbody tr th:only-of-type {\n",
       "        vertical-align: middle;\n",
       "    }\n",
       "\n",
       "    .dataframe tbody tr th {\n",
       "        vertical-align: top;\n",
       "    }\n",
       "\n",
       "    .dataframe thead th {\n",
       "        text-align: right;\n",
       "    }\n",
       "</style>\n",
       "<table border=\"1\" class=\"dataframe\">\n",
       "  <thead>\n",
       "    <tr style=\"text-align: right;\">\n",
       "      <th></th>\n",
       "      <th>category</th>\n",
       "      <th>rating</th>\n",
       "      <th>label</th>\n",
       "      <th>text_</th>\n",
       "    </tr>\n",
       "  </thead>\n",
       "  <tbody>\n",
       "    <tr>\n",
       "      <th>0</th>\n",
       "      <td>Home_and_Kitchen_5</td>\n",
       "      <td>5.0</td>\n",
       "      <td>CG</td>\n",
       "      <td>love well made sturdi comfort i love veri pretti</td>\n",
       "    </tr>\n",
       "    <tr>\n",
       "      <th>1</th>\n",
       "      <td>Home_and_Kitchen_5</td>\n",
       "      <td>5.0</td>\n",
       "      <td>CG</td>\n",
       "      <td>love great upgrad origin i 've mine coupl year</td>\n",
       "    </tr>\n",
       "    <tr>\n",
       "      <th>2</th>\n",
       "      <td>Home_and_Kitchen_5</td>\n",
       "      <td>5.0</td>\n",
       "      <td>CG</td>\n",
       "      <td>thi pillow save back i love look feel pillow</td>\n",
       "    </tr>\n",
       "    <tr>\n",
       "      <th>3</th>\n",
       "      <td>Home_and_Kitchen_5</td>\n",
       "      <td>1.0</td>\n",
       "      <td>CG</td>\n",
       "      <td>miss inform use great product price i</td>\n",
       "    </tr>\n",
       "    <tr>\n",
       "      <th>4</th>\n",
       "      <td>Home_and_Kitchen_5</td>\n",
       "      <td>5.0</td>\n",
       "      <td>CG</td>\n",
       "      <td>veri nice set good qualiti we set two month</td>\n",
       "    </tr>\n",
       "  </tbody>\n",
       "</table>\n",
       "</div>"
      ],
      "text/plain": [
       "             category  rating label  \\\n",
       "0  Home_and_Kitchen_5     5.0    CG   \n",
       "1  Home_and_Kitchen_5     5.0    CG   \n",
       "2  Home_and_Kitchen_5     5.0    CG   \n",
       "3  Home_and_Kitchen_5     1.0    CG   \n",
       "4  Home_and_Kitchen_5     5.0    CG   \n",
       "\n",
       "                                              text_  \n",
       "0  love well made sturdi comfort i love veri pretti  \n",
       "1    love great upgrad origin i 've mine coupl year  \n",
       "2      thi pillow save back i love look feel pillow  \n",
       "3             miss inform use great product price i  \n",
       "4       veri nice set good qualiti we set two month  "
      ]
     },
     "execution_count": 6,
     "metadata": {},
     "output_type": "execute_result"
    }
   ],
   "source": [
    "df.head()"
   ]
  },
  {
   "cell_type": "code",
   "execution_count": 7,
   "id": "8baee960-5110-4a2f-9935-ac6bc06530ea",
   "metadata": {},
   "outputs": [],
   "source": [
    "df.dropna(inplace=True)"
   ]
  },
  {
   "cell_type": "code",
   "execution_count": 8,
   "id": "8337b990-2aa3-432a-94e5-6794cf404ae1",
   "metadata": {},
   "outputs": [],
   "source": [
    "# adding a new column to get length of the review string\n",
    "df['length'] = df['text_'].apply(len)"
   ]
  },
  {
   "cell_type": "code",
   "execution_count": 9,
   "id": "1e3addd7-3b7e-43cb-8d05-e027c184ed67",
   "metadata": {},
   "outputs": [
    {
     "name": "stdout",
     "output_type": "stream",
     "text": [
      "<class 'pandas.core.frame.DataFrame'>\n",
      "Index: 40431 entries, 0 to 40431\n",
      "Data columns (total 5 columns):\n",
      " #   Column    Non-Null Count  Dtype  \n",
      "---  ------    --------------  -----  \n",
      " 0   category  40431 non-null  object \n",
      " 1   rating    40431 non-null  float64\n",
      " 2   label     40431 non-null  object \n",
      " 3   text_     40431 non-null  object \n",
      " 4   length    40431 non-null  int64  \n",
      "dtypes: float64(1), int64(1), object(3)\n",
      "memory usage: 1.9+ MB\n"
     ]
    }
   ],
   "source": [
    "df.info()"
   ]
  },
  {
   "cell_type": "code",
   "execution_count": 10,
   "id": "fdee6faf-657b-4ed1-aae9-3f175bff568a",
   "metadata": {},
   "outputs": [
    {
     "data": {
      "text/html": [
       "<div>\n",
       "<style scoped>\n",
       "    .dataframe tbody tr th:only-of-type {\n",
       "        vertical-align: middle;\n",
       "    }\n",
       "\n",
       "    .dataframe tbody tr th {\n",
       "        vertical-align: top;\n",
       "    }\n",
       "\n",
       "    .dataframe thead tr th {\n",
       "        text-align: left;\n",
       "    }\n",
       "\n",
       "    .dataframe thead tr:last-of-type th {\n",
       "        text-align: right;\n",
       "    }\n",
       "</style>\n",
       "<table border=\"1\" class=\"dataframe\">\n",
       "  <thead>\n",
       "    <tr>\n",
       "      <th></th>\n",
       "      <th colspan=\"8\" halign=\"left\">rating</th>\n",
       "      <th colspan=\"8\" halign=\"left\">length</th>\n",
       "    </tr>\n",
       "    <tr>\n",
       "      <th></th>\n",
       "      <th>count</th>\n",
       "      <th>mean</th>\n",
       "      <th>std</th>\n",
       "      <th>min</th>\n",
       "      <th>25%</th>\n",
       "      <th>50%</th>\n",
       "      <th>75%</th>\n",
       "      <th>max</th>\n",
       "      <th>count</th>\n",
       "      <th>mean</th>\n",
       "      <th>std</th>\n",
       "      <th>min</th>\n",
       "      <th>25%</th>\n",
       "      <th>50%</th>\n",
       "      <th>75%</th>\n",
       "      <th>max</th>\n",
       "    </tr>\n",
       "    <tr>\n",
       "      <th>label</th>\n",
       "      <th></th>\n",
       "      <th></th>\n",
       "      <th></th>\n",
       "      <th></th>\n",
       "      <th></th>\n",
       "      <th></th>\n",
       "      <th></th>\n",
       "      <th></th>\n",
       "      <th></th>\n",
       "      <th></th>\n",
       "      <th></th>\n",
       "      <th></th>\n",
       "      <th></th>\n",
       "      <th></th>\n",
       "      <th></th>\n",
       "      <th></th>\n",
       "    </tr>\n",
       "  </thead>\n",
       "  <tbody>\n",
       "    <tr>\n",
       "      <th>CG</th>\n",
       "      <td>20215.0</td>\n",
       "      <td>4.259906</td>\n",
       "      <td>1.141092</td>\n",
       "      <td>1.0</td>\n",
       "      <td>4.0</td>\n",
       "      <td>5.0</td>\n",
       "      <td>5.0</td>\n",
       "      <td>5.0</td>\n",
       "      <td>20215.0</td>\n",
       "      <td>173.267722</td>\n",
       "      <td>173.614884</td>\n",
       "      <td>13.0</td>\n",
       "      <td>57.0</td>\n",
       "      <td>99.0</td>\n",
       "      <td>216.0</td>\n",
       "      <td>1300.0</td>\n",
       "    </tr>\n",
       "    <tr>\n",
       "      <th>OR</th>\n",
       "      <td>20216.0</td>\n",
       "      <td>4.253265</td>\n",
       "      <td>1.147652</td>\n",
       "      <td>1.0</td>\n",
       "      <td>4.0</td>\n",
       "      <td>5.0</td>\n",
       "      <td>5.0</td>\n",
       "      <td>5.0</td>\n",
       "      <td>20216.0</td>\n",
       "      <td>237.060200</td>\n",
       "      <td>251.930537</td>\n",
       "      <td>8.0</td>\n",
       "      <td>74.0</td>\n",
       "      <td>134.0</td>\n",
       "      <td>295.0</td>\n",
       "      <td>2224.0</td>\n",
       "    </tr>\n",
       "  </tbody>\n",
       "</table>\n",
       "</div>"
      ],
      "text/plain": [
       "        rating                                                length  \\\n",
       "         count      mean       std  min  25%  50%  75%  max    count   \n",
       "label                                                                  \n",
       "CG     20215.0  4.259906  1.141092  1.0  4.0  5.0  5.0  5.0  20215.0   \n",
       "OR     20216.0  4.253265  1.147652  1.0  4.0  5.0  5.0  5.0  20216.0   \n",
       "\n",
       "                                                                 \n",
       "             mean         std   min   25%    50%    75%     max  \n",
       "label                                                            \n",
       "CG     173.267722  173.614884  13.0  57.0   99.0  216.0  1300.0  \n",
       "OR     237.060200  251.930537   8.0  74.0  134.0  295.0  2224.0  "
      ]
     },
     "execution_count": 10,
     "metadata": {},
     "output_type": "execute_result"
    }
   ],
   "source": [
    "df.groupby('label').describe()"
   ]
  },
  {
   "cell_type": "code",
   "execution_count": 11,
   "id": "65ff394e-7ab9-42a5-a606-1311096f5546",
   "metadata": {},
   "outputs": [
    {
     "data": {
      "image/png": "[encoded data removed]",
      "text/plain": [
       "<Figure size 1200x500 with 2 Axes>"
      ]
     },
     "metadata": {},
     "output_type": "display_data"
    }
   ],
   "source": [
    "df.hist(column='length',by='label', bins=70,color='green',figsize=(12,5))\n",
    "plt.suptitle(\"Distribution of Review Length by Label\", y=1.02, fontsize=16)\n",
    "plt.xlabel(\"Review Length\", fontsize=12)\n",
    "plt.ylabel(\"Frequency\", fontsize=12)\n",
    "plt.tight_layout()\n",
    "plt.show()"
   ]
  },
  {
   "cell_type": "code",
   "execution_count": 12,
   "id": "e6309da1-4fb9-447f-b047-70a8032853c5",
   "metadata": {},
   "outputs": [
    {
     "data": {
      "text/plain": [
       "(          rating    length\n",
       " rating  1.000000 -0.074546\n",
       " length -0.074546  1.000000,\n",
       "                     avg_length  total_reviews  genuine_proportion\n",
       " category                                                         \n",
       " Kindle_Store_5      248.722199           4730                 0.5\n",
       " Books_5             253.916705           4370                 0.5\n",
       " Pet_Supplies_5      177.941232           4254                 0.5\n",
       " Home_and_Kitchen_5  181.374507           4056                 0.5\n",
       " Electronics_5       209.278335           3988                 0.5)"
      ]
     },
     "execution_count": 12,
     "metadata": {},
     "output_type": "execute_result"
    }
   ],
   "source": [
    "# Correlation analysis between numerical columns (rating and length)\n",
    "correlation_matrix = df[['rating', 'length']].corr()\n",
    "\n",
    "# Category-specific analysis: Average review length and proportion of labels by category\n",
    "category_analysis = df.groupby('category').agg(\n",
    "    avg_length=('length', 'mean'),\n",
    "    total_reviews=('label', 'count'),\n",
    "    genuine_proportion=('label', lambda x: (x == 'CG').mean())  # Assuming 'CG' indicates genuine\n",
    ").sort_values(by='total_reviews', ascending=False)\n",
    "\n",
    "# Display the correlation matrix and category-specific summary\n",
    "correlation_matrix, category_analysis.head()\n"
   ]
  },
  {
   "cell_type": "code",
   "execution_count": 13,
   "id": "9b8e19b0-ccab-4e8f-aaaf-1867ac31c410",
   "metadata": {},
   "outputs": [
    {
     "data": {
      "text/plain": [
       "\"weak on current scienc after see twice i agr much posit five star review out respect read review i 'll repeat everyth i like present i found goofi over ear hairdo facial hair arrang daniel vitali describ `` wild food expert `` distract ugh ditto david wolf extrem goofi wild hairdo on hand jon gabriel describ `` author weight loss expert `` nice groom good present hi stori person transform fellow pound whew becom jock normal weight inspir christian northrup preserv rank one america 's cutest doctor a realli nice look woman present dr. mercola jason vale kri carr alejandro junger fine it disappoint jami oliv popular uk give babi cow growth fluid pas unscientif popular idea milk none present anyth zilch say work doctor t. colin campbel milk bodi bad it good see present take stand sugar they agr evil sugar refin carbohydr with respect dr. northrup `` it 's fat make fat 's sugar `` statement pas muster commun expert recogn evil sugar not mutual exclu recogn proven danger fat particularli fat dead anim extract fat all kind oliv oil not health food data-hook= `` product-link-link `` class= `` a-link-norm `` href= `` /the-china-study-the-most-comprehensive-study-of-nutrition-ever-conducted-and-the-startling-implications-for-diet-weight-loss-and-long-term-health/dp/1932100660/ref=cm_cr_arp_d_rvw_txt ie=utf8 `` the china studi the most comprehen studi nutrit ever conduct and startl implic diet weight loss and long-term health /a data-hook= `` product-link-link `` class= `` a-link-norm `` href= `` /forks-over-knives/dp/b0053zhzi2/ref=cm_cr_arp_d_rvw_txt ie=utf8 `` fork over knive /a data-hook= `` product-link-link `` class= `` a-link-norm `` href= `` /prevent-and-reverse-heart-disease-the-revolutionary-scientifically-proven-nutrition-based-cure/dp/1583333002/ref=cm_cr_arp_d_rvw_txt ie=utf8 `` prevent rever heart disea the revolutionari scientif proven nutrition-ba cure /a data-hook= `` product-link-link `` class= `` a-link-norm `` href= `` /the-plant-based-journey-a-step-by-step-guide-for-transitioning-to-a-healthy-lifestyle-and-achieving-your-ideal-weight/dp/1941631363/ref=cm_cr_arp_d_rvw_txt ie=utf8 `` the plant-ba journey a step-by-step guid transit healthi lifestyl achiev your ideal weight /a\""
      ]
     },
     "execution_count": 13,
     "metadata": {},
     "output_type": "execute_result"
    }
   ],
   "source": [
    "# describing the largest review\n",
    "#df['label']=='OR' filters the DataFrame by the label 'OR'.\n",
    "#.sort_values(by='length', ascending=False) sorts the data by text length.\n",
    "#.head() retrieves the top 5 longest texts.\n",
    "#.iloc[0] gets the first row (longest text).\n",
    "#.text_ extracts the text_ column (the actual text).\n",
    "\n",
    "df[df['label']=='OR'][['text_','length']].sort_values(by='length',ascending=False).head().iloc[0].text_"
   ]
  },
  {
   "cell_type": "code",
   "execution_count": 14,
   "id": "9477cba4-cf42-42d8-9a14-9c04aa003caa",
   "metadata": {
    "editable": true,
    "slideshow": {
     "slide_type": ""
    },
    "tags": []
   },
   "outputs": [
    {
     "data": {
      "text/plain": [
       "count    40431.000000\n",
       "mean       205.164750\n",
       "std        218.682902\n",
       "min          8.000000\n",
       "25%         64.000000\n",
       "50%        116.000000\n",
       "75%        253.000000\n",
       "max       2224.000000\n",
       "Name: length, dtype: float64"
      ]
     },
     "execution_count": 14,
     "metadata": {},
     "output_type": "execute_result"
    }
   ],
   "source": [
    "df.length.describe()"
   ]
  },
  {
   "cell_type": "code",
   "execution_count": 15,
   "id": "b0b63a5c-018a-4dfd-91e9-8d570e200249",
   "metadata": {},
   "outputs": [],
   "source": [
    "# filtering out important words in the review\n",
    "def text_process(review):\n",
    "    nopunc = [char for char in review if char not in string.punctuation]\n",
    "    nopunc = ''.join(nopunc)\n",
    "    return [word for word in nopunc.split() if word.lower() not in stopwords.words('english')]"
   ]
  },
  {
   "cell_type": "code",
   "execution_count": 16,
   "id": "ece8c047-0e61-439e-afb4-bbd04369c2c5",
   "metadata": {},
   "outputs": [
    {
     "data": {
      "text/html": [
       "<style>#sk-container-id-1 {color: black;background-color: white;}#sk-container-id-1 pre{padding: 0;}#sk-container-id-1 div.sk-toggleable {background-color: white;}#sk-container-id-1 label.sk-toggleable__label {cursor: pointer;display: block;width: 100%;margin-bottom: 0;padding: 0.3em;box-sizing: border-box;text-align: center;}#sk-container-id-1 label.sk-toggleable__label-arrow:before {content: \"▸\";float: left;margin-right: 0.25em;color: #696969;}#sk-container-id-1 label.sk-toggleable__label-arrow:hover:before {color: black;}#sk-container-id-1 div.sk-estimator:hover label.sk-toggleable__label-arrow:before {color: black;}#sk-container-id-1 div.sk-toggleable__content {max-height: 0;max-width: 0;overflow: hidden;text-align: left;background-color: #f0f8ff;}#sk-container-id-1 div.sk-toggleable__content pre {margin: 0.2em;color: black;border-radius: 0.25em;background-color: #f0f8ff;}#sk-container-id-1 input.sk-toggleable__control:checked~div.sk-toggleable__content {max-height: 200px;max-width: 100%;overflow: auto;}#sk-container-id-1 input.sk-toggleable__control:checked~label.sk-toggleable__label-arrow:before {content: \"▾\";}#sk-container-id-1 div.sk-estimator input.sk-toggleable__control:checked~label.sk-toggleable__label {background-color: #d4ebff;}#sk-container-id-1 div.sk-label input.sk-toggleable__control:checked~label.sk-toggleable__label {background-color: #d4ebff;}#sk-container-id-1 input.sk-hidden--visually {border: 0;clip: rect(1px 1px 1px 1px);clip: rect(1px, 1px, 1px, 1px);height: 1px;margin: -1px;overflow: hidden;padding: 0;position: absolute;width: 1px;}#sk-container-id-1 div.sk-estimator {font-family: monospace;background-color: #f0f8ff;border: 1px dotted black;border-radius: 0.25em;box-sizing: border-box;margin-bottom: 0.5em;}#sk-container-id-1 div.sk-estimator:hover {background-color: #d4ebff;}#sk-container-id-1 div.sk-parallel-item::after {content: \"\";width: 100%;border-bottom: 1px solid gray;flex-grow: 1;}#sk-container-id-1 div.sk-label:hover label.sk-toggleable__label {background-color: #d4ebff;}#sk-container-id-1 div.sk-serial::before {content: \"\";position: absolute;border-left: 1px solid gray;box-sizing: border-box;top: 0;bottom: 0;left: 50%;z-index: 0;}#sk-container-id-1 div.sk-serial {display: flex;flex-direction: column;align-items: center;background-color: white;padding-right: 0.2em;padding-left: 0.2em;position: relative;}#sk-container-id-1 div.sk-item {position: relative;z-index: 1;}#sk-container-id-1 div.sk-parallel {display: flex;align-items: stretch;justify-content: center;background-color: white;position: relative;}#sk-container-id-1 div.sk-item::before, #sk-container-id-1 div.sk-parallel-item::before {content: \"\";position: absolute;border-left: 1px solid gray;box-sizing: border-box;top: 0;bottom: 0;left: 50%;z-index: -1;}#sk-container-id-1 div.sk-parallel-item {display: flex;flex-direction: column;z-index: 1;position: relative;background-color: white;}#sk-container-id-1 div.sk-parallel-item:first-child::after {align-self: flex-end;width: 50%;}#sk-container-id-1 div.sk-parallel-item:last-child::after {align-self: flex-start;width: 50%;}#sk-container-id-1 div.sk-parallel-item:only-child::after {width: 0;}#sk-container-id-1 div.sk-dashed-wrapped {border: 1px dashed gray;margin: 0 0.4em 0.5em 0.4em;box-sizing: border-box;padding-bottom: 0.4em;background-color: white;}#sk-container-id-1 div.sk-label label {font-family: monospace;font-weight: bold;display: inline-block;line-height: 1.2em;}#sk-container-id-1 div.sk-label-container {text-align: center;}#sk-container-id-1 div.sk-container {/* jupyter's `normalize.less` sets `[hidden] { display: none; }` but bootstrap.min.css set `[hidden] { display: none !important; }` so we also need the `!important` here to be able to override the default hidden behavior on the sphinx rendered scikit-learn.org. See: https://github.com/scikit-learn/scikit-learn/issues/21755 */display: inline-block !important;position: relative;}#sk-container-id-1 div.sk-text-repr-fallback {display: none;}</style><div id=\"sk-container-id-1\" class=\"sk-top-container\"><div class=\"sk-text-repr-fallback\"><pre>CountVectorizer(analyzer=&lt;function text_process at 0x0000022DC1354C20&gt;)</pre><b>In a Jupyter environment, please rerun this cell to show the HTML representation or trust the notebook. <br />On GitHub, the HTML representation is unable to render, please try loading this page with nbviewer.org.</b></div><div class=\"sk-container\" hidden><div class=\"sk-item\"><div class=\"sk-estimator sk-toggleable\"><input class=\"sk-toggleable__control sk-hidden--visually\" id=\"sk-estimator-id-1\" type=\"checkbox\" checked><label for=\"sk-estimator-id-1\" class=\"sk-toggleable__label sk-toggleable__label-arrow\">CountVectorizer</label><div class=\"sk-toggleable__content\"><pre>CountVectorizer(analyzer=&lt;function text_process at 0x0000022DC1354C20&gt;)</pre></div></div></div></div></div>"
      ],
      "text/plain": [
       "CountVectorizer(analyzer=<function text_process at 0x0000022DC1354C20>)"
      ]
     },
     "execution_count": 16,
     "metadata": {},
     "output_type": "execute_result"
    }
   ],
   "source": [
    "bow_transformer = CountVectorizer(analyzer=text_process)\n",
    "bow_transformer"
   ]
  },
  {
   "cell_type": "code",
   "execution_count": 17,
   "id": "80c9d8d4-2a83-478a-8de5-d958b77e370c",
   "metadata": {},
   "outputs": [],
   "source": [
    "# text is represented as a collection of word counts\n",
    "# It converts a collection of text documents into a matrix of token counts, where each row represents a document and each column represents a unique word (or token)"
   ]
  },
  {
   "cell_type": "code",
   "execution_count": 18,
   "id": "ae0b2234-cd9d-44c0-a6f6-a8039f9d4672",
   "metadata": {},
   "outputs": [],
   "source": [
    "# analyzer=text_process= allows to clean and tokenize the text before converting it into a document-term matrix for further analysis or machine learning tasks"
   ]
  },
  {
   "cell_type": "code",
   "execution_count": null,
   "id": "79db2359-ebe3-4224-b45b-48f4e60bbf87",
   "metadata": {},
   "outputs": [
    {
     "name": "stdout",
     "output_type": "stream",
     "text": [
      "showing info https://raw.githubusercontent.com/nltk/nltk_data/gh-pages/index.xml\n"
     ]
    }
   ],
   "source": [
    "import nltk\n",
    "nltk.download()"
   ]
  },
  {
   "cell_type": "code",
   "execution_count": null,
   "id": "83a0d9f7-7847-4fea-83ea-a088461bbd18",
   "metadata": {},
   "outputs": [],
   "source": [
    "# bow_transformer then creates a vocabulary dictionary where the keys are the unique words, and the values are their corresponding indices in the feature space.\n",
    "# bow_transformer.vocabulary is a dictionary that holds the vocabulary that CountVectorizer learned after calling fit().\n",
    "# Each unique word (token) in the corpus (the text data) is assigned a unique index\n",
    "#len(bow_transformer.vocabulary_):returns the size of the vocabulary, i.e., the number of unique terms (words) that the vectorizer learned from the text."
   ]
  },
  {
   "cell_type": "code",
   "execution_count": null,
   "id": "8ae6c1e4-c6aa-47f7-8636-c664d03f7f31",
   "metadata": {},
   "outputs": [],
   "source": [
    "bow_transformer.fit(df['text_'])\n",
    "print(\"Total Vocabulary:\",len(bow_transformer.vocabulary_))"
   ]
  },
  {
   "cell_type": "code",
   "execution_count": null,
   "id": "829200eb-02c9-42b0-ae63-48e55922a93b",
   "metadata": {},
   "outputs": [],
   "source": [
    "# example review\n",
    "review5= df['text_'][4]\n",
    "review5"
   ]
  },
  {
   "cell_type": "code",
   "execution_count": null,
   "id": "38abf9b4-d84e-4b84-8277-007e9b6ffaea",
   "metadata": {},
   "outputs": [],
   "source": [
    "bow_msg5 = bow_transformer.transform([review5])\n",
    "print(bow_msg5)\n",
    "print(bow_msg5.shape)"
   ]
  },
  {
   "cell_type": "code",
   "execution_count": null,
   "id": "ee14a58a-196b-48f5-92b9-c48d3ba15026",
   "metadata": {},
   "outputs": [],
   "source": [
    "# (0, 13271) represents that at index 13271 in the vocabulary build, the word occurs once in the review."
   ]
  },
  {
   "cell_type": "code",
   "execution_count": null,
   "id": "e6c8dabc-6311-4780-a328-3dc19812462b",
   "metadata": {},
   "outputs": [],
   "source": [
    "# bow_msg5.shape:The shape of the matrix bow_msg4 is (1, n_features). The 1 represents the single review (since we passed one review to transform()).\n",
    "# n_features is the number of features in the vocabulary (the total unique words), which is the same as the number of unique words in the vocabulary learned by the CountVectorizer"
   ]
  },
  {
   "cell_type": "code",
   "execution_count": null,
   "id": "d4fe9c1b-1cd7-4159-bb96-9df89aa08b31",
   "metadata": {},
   "outputs": [],
   "source": [
    "#  (1, 34202) indicates that the sparse matrix has 1 row (for the single review) and 34,452 columns (representing the total vocabulary size)."
   ]
  },
  {
   "cell_type": "code",
   "execution_count": null,
   "id": "f5b9d065-6272-47a5-8fe7-331a36f9a917",
   "metadata": {},
   "outputs": [],
   "source": [
    "# lets see the unique words"
   ]
  },
  {
   "cell_type": "code",
   "execution_count": null,
   "id": "145cbedb-03a7-420d-a4ff-9d5ab69603c3",
   "metadata": {},
   "outputs": [],
   "source": [
    "print(bow_transformer.get_feature_names_out()[19942])\n",
    "print(bow_transformer.get_feature_names_out()[26772])"
   ]
  },
  {
   "cell_type": "code",
   "execution_count": null,
   "id": "daaa2e78-8378-42d0-85db-eceb07cbcc59",
   "metadata": {},
   "outputs": [],
   "source": [
    "bow_reviews = bow_transformer.transform(df['text_'])"
   ]
  },
  {
   "cell_type": "code",
   "execution_count": null,
   "id": "ceeac05f-9a5b-4a1c-8973-5dc5074c8dfa",
   "metadata": {},
   "outputs": [],
   "source": [
    "#shape: This provides insight into the size of your feature matrix. In this case, it's the number of reviews and the number of unique words.\n",
    "# nnz: tells you about the sparsity of your matrix. A high value of nnz compared to the total size (shape[0] * shape[1]) indicates a relatively dense matrix, while a low value of nnz indicates that the matrix is sparse, meaning that most of the words are not present in most of the reviews."
   ]
  },
  {
   "cell_type": "code",
   "execution_count": null,
   "id": "eab0a82c-e4d0-4443-b244-c3630ebbdafe",
   "metadata": {},
   "outputs": [],
   "source": [
    "print(\"Shape of Bag of Words Transformer for the entire reviews corpus:\",bow_reviews.shape)\n",
    "print(\"Amount of non zero values in the bag of words model:\",bow_reviews.nnz)"
   ]
  },
  {
   "cell_type": "code",
   "execution_count": null,
   "id": "12734830-107c-49d3-9cde-0a585459330f",
   "metadata": {},
   "outputs": [],
   "source": [
    "print(\"Sparsity:\",np.round((bow_reviews.nnz/(bow_reviews.shape[0]*bow_reviews.shape[1]))*100,2))"
   ]
  },
  {
   "cell_type": "code",
   "execution_count": null,
   "id": "d4aeacae-7700-405d-9734-e5d7ca5ff1f1",
   "metadata": {},
   "outputs": [],
   "source": [
    "# t 7% of the matrix is occupied by non-zero elements (or 93% is zeros, making it a sparse matrix)"
   ]
  },
  {
   "cell_type": "code",
   "execution_count": null,
   "id": "f91f8499-c23f-48f6-9b6c-5c5359215304",
   "metadata": {},
   "outputs": [],
   "source": [
    "# transform(bow_reviews) converts the bow_reviews matrix from simple counts to TF-IDF (Term Frequency-Inverse Document Frequency) values.\n",
    "# TF-IDF scores indicate the importance of a word in a document relative to its occurrence across the entire corpus.\n",
    "#Higher values mean a word is more unique to a particular document.\n",
    "\n",
    "tfidf_transformer = TfidfTransformer().fit(bow_reviews)\n",
    "\n",
    "tfidf_reviews = tfidf_transformer.transform(bow_reviews)\n",
    "print(\"Shape:\",tfidf_reviews.shape)\n",
    "print(\"No. of Dimensions:\",tfidf_reviews.ndim)"
   ]
  },
  {
   "cell_type": "code",
   "execution_count": null,
   "id": "524b4b56-f87f-41e6-9488-2c6ef2dfae0d",
   "metadata": {},
   "outputs": [],
   "source": [
    "tfidf_reviews"
   ]
  },
  {
   "cell_type": "code",
   "execution_count": null,
   "id": "e29aba6f-02dc-4914-93b5-498c035398c1",
   "metadata": {},
   "outputs": [],
   "source": [
    "tfidf_transformer"
   ]
  },
  {
   "cell_type": "markdown",
   "id": "b4f57a2e-3ed7-4652-b115-f4a9a71697e7",
   "metadata": {},
   "source": [
    "**creating and training the datasets**"
   ]
  },
  {
   "cell_type": "code",
   "execution_count": null,
   "id": "ae0b9968-59f2-4cc6-90c0-a55b44114504",
   "metadata": {},
   "outputs": [],
   "source": [
    "review_train, review_test, label_train, label_test = train_test_split(df['text_'],df['label'],test_size=0.35)"
   ]
  },
  {
   "cell_type": "markdown",
   "id": "7f821627-8b77-423c-b9b1-2498e73b602d",
   "metadata": {},
   "source": [
    "**Decision Tree**"
   ]
  },
  {
   "cell_type": "code",
   "execution_count": null,
   "id": "9074ff84-715e-4ceb-8a0e-f08df153b531",
   "metadata": {},
   "outputs": [],
   "source": [
    "class Node():\n",
    "    def __init__(self, feature_index=None, threshold=None, left=None, right=None, info_gain=None, value=None):\n",
    "        ''' constructor ''' \n",
    "        \n",
    "        # for decision node\n",
    "        self.feature_index = feature_index\n",
    "        self.threshold = threshold\n",
    "        self.left = left\n",
    "        self.right = right\n",
    "        self.info_gain = info_gain\n",
    "        \n",
    "        # for leaf node\n",
    "        self.value = value"
   ]
  },
  {
   "cell_type": "code",
   "execution_count": null,
   "id": "dae837cd-d7df-4444-b414-65afb7020362",
   "metadata": {},
   "outputs": [],
   "source": [
    "class DecisionTreeClassifier():\n",
    "    def __init__(self, min_samples_split=2, max_depth=2):\n",
    "        ''' constructor '''\n",
    "        \n",
    "        # initialize the root of the tree \n",
    "        self.root = None\n",
    "        \n",
    "        # stopping conditions\n",
    "        self.min_samples_split = min_samples_split\n",
    "        self.max_depth = max_depth\n",
    "        \n",
    "    def build_tree(self, dataset, curr_depth=0):\n",
    "        ''' recursive function to build the tree ''' \n",
    "        \n",
    "        X, Y = dataset[:,:-1], dataset[:,-1]\n",
    "        num_samples, num_features = np.shape(X)\n",
    "        \n",
    "        # split until stopping conditions are met\n",
    "        if num_samples>=self.min_samples_split and curr_depth<=self.max_depth:\n",
    "            # find the best split\n",
    "            best_split = self.get_best_split(dataset, num_samples, num_features)\n",
    "            # check if information gain is positive\n",
    "            if best_split[\"info_gain\"]>0:\n",
    "                # recur left\n",
    "                left_subtree = self.build_tree(best_split[\"dataset_left\"], curr_depth+1)\n",
    "                # recur right\n",
    "                right_subtree = self.build_tree(best_split[\"dataset_right\"], curr_depth+1)\n",
    "                # return decision node\n",
    "                return Node(best_split[\"feature_index\"], best_split[\"threshold\"], \n",
    "                            left_subtree, right_subtree, best_split[\"info_gain\"])\n",
    "        \n",
    "        # compute leaf node\n",
    "        leaf_value = self.calculate_leaf_value(Y)\n",
    "        # return leaf node\n",
    "        return Node(value=leaf_value)\n",
    "    \n",
    "    def get_best_split(self, dataset, num_samples, num_features):\n",
    "        ''' function to find the best split '''\n",
    "        \n",
    "        # dictionary to store the best split\n",
    "        best_split = {}\n",
    "        max_info_gain = -float(\"inf\")\n",
    "        \n",
    "        # loop over all the features\n",
    "        for feature_index in range(num_features):\n",
    "            feature_values = dataset[:, feature_index]\n",
    "            possible_thresholds = np.unique(feature_values)\n",
    "            # loop over all the feature values present in the data\n",
    "            for threshold in possible_thresholds:\n",
    "                # get current split\n",
    "                dataset_left, dataset_right = self.split(dataset, feature_index, threshold)\n",
    "                # check if childs are not null\n",
    "                if len(dataset_left)>0 and len(dataset_right)>0:\n",
    "                    y, left_y, right_y = dataset[:, -1], dataset_left[:, -1], dataset_right[:, -1]\n",
    "                    # compute information gain\n",
    "                    curr_info_gain = self.information_gain(y, left_y, right_y, \"gini\")\n",
    "                    # update the best split if needed\n",
    "                    if curr_info_gain>max_info_gain:\n",
    "                        best_split[\"feature_index\"] = feature_index\n",
    "                        best_split[\"threshold\"] = threshold\n",
    "                        best_split[\"dataset_left\"] = dataset_left\n",
    "                        best_split[\"dataset_right\"] = dataset_right\n",
    "                        best_split[\"info_gain\"] = curr_info_gain\n",
    "                        max_info_gain = curr_info_gain\n",
    "                        \n",
    "        # return best split\n",
    "        return best_split\n",
    "    \n",
    "    def split(self, dataset, feature_index, threshold):\n",
    "        ''' function to split the data '''\n",
    "        \n",
    "        dataset_left = np.array([row for row in dataset if row[feature_index]<=threshold])\n",
    "        dataset_right = np.array([row for row in dataset if row[feature_index]>threshold])\n",
    "        return dataset_left, dataset_right\n",
    "    \n",
    "    def information_gain(self, parent, l_child, r_child, mode=\"entropy\"):\n",
    "        ''' function to compute information gain '''\n",
    "        \n",
    "        weight_l = len(l_child) / len(parent)\n",
    "        weight_r = len(r_child) / len(parent)\n",
    "        if mode==\"gini\":\n",
    "            gain = self.gini_index(parent) - (weight_l*self.gini_index(l_child) + weight_r*self.gini_index(r_child))\n",
    "        else:\n",
    "            gain = self.entropy(parent) - (weight_l*self.entropy(l_child) + weight_r*self.entropy(r_child))\n",
    "        return gain\n",
    "    \n",
    "    def entropy(self, y):\n",
    "        ''' function to compute entropy '''\n",
    "        \n",
    "        class_labels = np.unique(y)\n",
    "        entropy = 0\n",
    "        for cls in class_labels:\n",
    "            p_cls = len(y[y == cls]) / len(y)\n",
    "            entropy += -p_cls * np.log2(p_cls)\n",
    "        return entropy\n",
    "    \n",
    "    def gini_index(self, y):\n",
    "        ''' function to compute gini index '''\n",
    "        \n",
    "        class_labels = np.unique(y)\n",
    "        gini = 0\n",
    "        for cls in class_labels:\n",
    "            p_cls = len(y[y == cls]) / len(y)\n",
    "            gini += p_cls**2\n",
    "        return 1 - gini\n",
    "        \n",
    "    def calculate_leaf_value(self, Y):\n",
    "        ''' function to compute leaf node '''\n",
    "        \n",
    "        Y = list(Y)\n",
    "        return max(Y, key=Y.count)\n",
    "    \n",
    "    def print_tree(self, tree=None, indent=\" \"):\n",
    "        ''' function to print the tree '''\n",
    "        \n",
    "        if not tree:\n",
    "            tree = self.root\n",
    "\n",
    "        if tree.value is not None:\n",
    "            print(tree.value)\n",
    "\n",
    "        else:\n",
    "            print(\"X_\"+str(tree.feature_index), \"<=\", tree.threshold, \"?\", tree.info_gain)\n",
    "            print(\"%sleft:\" % (indent), end=\"\")\n",
    "            self.print_tree(tree.left, indent + indent)\n",
    "            print(\"%sright:\" % (indent), end=\"\")\n",
    "            self.print_tree(tree.right, indent + indent)\n",
    "    \n",
    "    def fit(self, X, Y):\n",
    "        ''' function to train the tree '''\n",
    "        \n",
    "        dataset = np.concatenate((X, Y), axis=1)\n",
    "        self.root = self.build_tree(dataset)\n",
    "    \n",
    "    def predict(self, X):\n",
    "        ''' function to predict new dataset '''\n",
    "        \n",
    "        preditions = [self.make_prediction(x, self.root) for x in X]\n",
    "        return preditions\n",
    "    \n",
    "    def make_prediction(self, x, tree):\n",
    "        ''' function to predict a single data point '''\n",
    "        \n",
    "        if tree.value!=None: return tree.value\n",
    "        feature_val = x[tree.feature_index]\n",
    "        if feature_val<=tree.threshold:\n",
    "            return self.make_prediction(x, tree.left)\n",
    "        else:\n",
    "            return self.make_prediction(x, tree.right)"
   ]
  },
  {
   "cell_type": "code",
   "execution_count": null,
   "id": "f3fcdcb4-71da-4868-8e4a-162f6a8392c3",
   "metadata": {},
   "outputs": [],
   "source": [
    "X= df['text_']\n",
    "Y= df['label']\n",
    "review_train, review_test, label_train, label_test = train_test_split(X,Y,test_size=0.35)"
   ]
  },
  {
   "cell_type": "code",
   "execution_count": null,
   "id": "c764d697-1e2b-4332-bf1b-c87212ac0fcc",
   "metadata": {},
   "outputs": [],
   "source": [
    "from sklearn.metrics import classification_report, confusion_matrix, accuracy_score\n",
    "from sklearn.feature_extraction.text import CountVectorizer, TfidfTransformer"
   ]
  },
  {
   "cell_type": "code",
   "execution_count": null,
   "id": "43eff745-272b-4ae4-9828-dcdb8c2d5b1e",
   "metadata": {},
   "outputs": [],
   "source": [
    "from sklearn.pipeline import Pipeline\n",
    "classifier = DecisionTreeClassifier(min_samples_split=3, max_depth=3)\n",
    "pipeline = Pipeline([\n",
    "    ('bow',CountVectorizer(analyzer=text_process)),\n",
    "    ('tfidf',TfidfTransformer()),\n",
    "    ('classifier',DecisionTreeClassifier())\n",
    "])"
   ]
  },
  {
   "cell_type": "code",
   "execution_count": null,
   "id": "a95cc53c-fd4b-4075-a55b-cc9f8c4a0086",
   "metadata": {},
   "outputs": [],
   "source": [
    "pipeline.fit(review_train,label_train)"
   ]
  },
  {
   "cell_type": "code",
   "execution_count": null,
   "id": "60d9825c-a5ea-43f7-8fef-966e6313486d",
   "metadata": {},
   "outputs": [],
   "source": [
    "dtree_pred = pipeline.predict(review_test)\n",
    "print('Classification Report:',classification_report(label_test,dtree_pred))\n",
    "print('Confusion Matrix:',confusion_matrix(label_test,dtree_pred))\n",
    "print('Accuracy Score:',accuracy_score(label_test,dtree_pred))\n",
    "print('Model Prediction Accuracy:',str(np.round(accuracy_score(label_test,dtree_pred)*100,2)) + '%')"
   ]
  },
  {
   "cell_type": "code",
   "execution_count": null,
   "id": "5acf270a-b783-4230-b83c-a912a1139c77",
   "metadata": {},
   "outputs": [],
   "source": [
    "classifier = DecisionTreeClassifier(min_samples_split=6, max_depth=6)\n",
    "pipeline = Pipeline([\n",
    "    ('bow',CountVectorizer(analyzer=text_process)),\n",
    "    ('tfidf',TfidfTransformer()),\n",
    "    ('classifier',DecisionTreeClassifier())\n",
    "])"
   ]
  },
  {
   "cell_type": "code",
   "execution_count": null,
   "id": "38fadc11-170a-4842-8cef-7ca19a7d1063",
   "metadata": {},
   "outputs": [],
   "source": [
    "pipeline.fit(review_train,label_train)\n",
    "dtree_pred = pipeline.predict(review_test)\n",
    "print('Classification Report:',classification_report(label_test,dtree_pred))\n",
    "print('Confusion Matrix:',confusion_matrix(label_test,dtree_pred))\n",
    "print('Accuracy Score:',accuracy_score(label_test,dtree_pred))\n",
    "print('Model Prediction Accuracy:',str(np.round(accuracy_score(label_test,dtree_pred)*100,2)) + '%')"
   ]
  },
  {
   "cell_type": "code",
   "execution_count": null,
   "id": "062bbe99-6818-4467-b927-6b7607a50c82",
   "metadata": {},
   "outputs": [],
   "source": [
    "# classifier = DecisionTreeClassifier(min_samples_split=3, max_depth=3)\n",
    "# pipeline = Pipeline([\n",
    "#     ('bow',CountVectorizer(analyzer=text_process)),\n",
    "#     ('tfidf',TfidfTransformer()),\n",
    "#     ('classifier',DecisionTreeClassifier())\n",
    "# ])"
   ]
  },
  {
   "cell_type": "code",
   "execution_count": null,
   "id": "506caa08-fb39-4e32-83d9-00de8688e0db",
   "metadata": {},
   "outputs": [],
   "source": [
    "# classifier = DecisionTreeClassifier(min_samples_split=3, max_depth=3)\n",
    "# pipeline = Pipeline([\n",
    "#     ('bow',CountVectorizer(analyzer=text_process)),\n",
    "#     ('tfidf',TfidfTransformer()),\n",
    "#     ('classifier',classifier)\n",
    "# ])"
   ]
  },
  {
   "cell_type": "code",
   "execution_count": null,
   "id": "be58781d-3053-4afc-b177-c49c9eb12049",
   "metadata": {},
   "outputs": [],
   "source": [
    "# pipeline.fit(review_train,label_train)\n",
    "# dtree_pred = pipeline.predict(review_test)\n",
    "# print('Classification Report:',classification_report(label_test,dtree_pred))\n",
    "# print('Confusion Matrix:',confusion_matrix(label_test,dtree_pred))\n",
    "# print('Accuracy Score:',accuracy_score(label_test,dtree_pred))\n",
    "# print('Model Prediction Accuracy:',str(np.round(accuracy_score(label_test,dtree_pred)*100,2)) + '%')"
   ]
  },
  {
   "cell_type": "markdown",
   "id": "67ad4ab3-d59b-4a4d-81a5-c9374fd78b46",
   "metadata": {},
   "source": [
    "**Random Forest**"
   ]
  },
  {
   "cell_type": "markdown",
   "id": "e0242029-9270-4d6e-bffa-a8461aa10663",
   "metadata": {},
   "source": [
    "**Naive Bayes**"
   ]
  },
  {
   "cell_type": "code",
   "execution_count": null,
   "id": "03c7d1e2-7aac-4e36-a76d-32b1a7bb9f24",
   "metadata": {},
   "outputs": [],
   "source": [
    "from sklearn.utils.sparsefuncs import mean_variance_axis\n",
    "import numpy as np\n",
    "from sklearn import datasets\n",
    "class NaiveBayes:\n",
    "\n",
    "    def fit(self, X, y): \n",
    "        n_samples, n_features = X.shape\n",
    "        self._classes = np.unique(y)\n",
    "        n_classes = len(self._classes)\n",
    "\n",
    "        self._mean = np.zeros((n_classes, n_features), dtype=np.float64)\n",
    "        self._var = np.zeros((n_classes, n_features), dtype=np.float64)\n",
    "        self._priors = np.zeros(n_classes, dtype=np.float64)\n",
    "\n",
    "        for idx, c in enumerate(self._classes):\n",
    "            X_c = X[y == c]\n",
    "            mean, var = mean_variance_axis(X_c, axis=0)  # Compute mean and variance for sparse data\n",
    "            self._mean[idx, :] = mean\n",
    "            self._var[idx, :] = var\n",
    "            self._priors[idx] = X_c.shape[0] / float(n_samples)\n",
    "            \n",
    "\n",
    "    def predict(self, X):\n",
    "        y_pred = [self._predict(x) for x in X]\n",
    "        return np.array(y_pred)\n",
    "\n",
    "    def _predict(self, x):\n",
    "        posteriors = []\n",
    "\n",
    "        # calculate posterior probability for each class\n",
    "        for idx, c in enumerate(self._classes):\n",
    "            prior = np.log(self._priors[idx])\n",
    "            posterior = np.sum(np.log(self._pdf(idx, x)))\n",
    "            posterior = posterior + prior\n",
    "            posteriors.append(posterior)\n",
    "\n",
    "        # return class with the highest posterior\n",
    "        return self._classes[np.argmax(posteriors)]\n",
    "\n",
    "    def _pdf(self, class_idx, x):\n",
    "        mean = self._mean[class_idx]\n",
    "        var = self._var[class_idx]\n",
    "    \n",
    "    # Ensure x is dense and 1D\n",
    "        if hasattr(x, \"toarray\"):  # Check if x is sparse\n",
    "            x = x.toarray().flatten()\n",
    "        else:\n",
    "            x = np.asarray(x).flatten()  # Ensure x is a 1D numpy array\n",
    "    \n",
    "    # Perform element-wise Gaussian PDF computation\n",
    "        numerator = np.exp(-((x - mean) ** 2) / (2 * var))\n",
    "        denominator = np.sqrt(2 * np.pi * var)\n",
    "        return numerator / denominator\n",
    "\n",
    "\n",
    "        print(f\"x shape: {x.shape}, mean shape: {mean.shape}, var shape: {var.shape}\")"
   ]
  },
  {
   "cell_type": "code",
   "execution_count": null,
   "id": "d8ad85bf-8bfe-4375-97da-749a0907128a",
   "metadata": {},
   "outputs": [],
   "source": [
    "# # Testing\n",
    "# if __name__ == \"__main__\":\n",
    "#     # Imports\n",
    "#     from sklearn.model_selection import train_test_split\n",
    "#     from sklearn import datasets\n",
    "\n",
    "#     def accuracy(y_true, y_pred):\n",
    "#         accuracy = np.sum(y_true == y_pred) / len(y_true)\n",
    "#         return accuracy\n",
    "\n",
    "#     X, y = datasets.make_classification(\n",
    "#         n_samples=1000, n_features=10, n_classes=2, random_state=123\n",
    "#     )\n",
    "#     X_train, X_test, y_train, y_test = train_test_split(\n",
    "#         X, y, test_size=0.2, random_state=123\n",
    "#     )\n",
    "\n",
    "#     nb = NaiveBayes()\n",
    "#     nb.fit(X_train, y_train)\n",
    "#     predictions = nb.predict(X_test)\n",
    "\n",
    "#     print(\"Naive Bayes classification accuracy\", accuracy(y_test, predictions))"
   ]
  },
  {
   "cell_type": "code",
   "execution_count": null,
   "id": "4075706b-918a-4c1c-975b-9d0bee59c16b",
   "metadata": {},
   "outputs": [],
   "source": [
    "# X, y = datasets.make_classification(\n",
    "#         n_samples=1000, n_features=10, n_classes=2, random_state=123\n",
    "#     )"
   ]
  },
  {
   "cell_type": "code",
   "execution_count": null,
   "id": "ef24399b-339b-4ab2-bd36-8e4070b23402",
   "metadata": {},
   "outputs": [],
   "source": [
    "X= df['text_']\n",
    "y= df['label']\n",
    "review_train, review_test, label_train, label_test = train_test_split(X,y,test_size=0.35,random_state=123)"
   ]
  },
  {
   "cell_type": "code",
   "execution_count": null,
   "id": "4a39da92-695b-4940-86d6-6d0fe8626dab",
   "metadata": {},
   "outputs": [],
   "source": [
    "classifier = NaiveBayes()\n",
    "pipeline = Pipeline([\n",
    "    ('bow',CountVectorizer(analyzer=text_process,max_features=10000)),\n",
    "    ('tfidf',TfidfTransformer()),\n",
    "    ('classifier',NaiveBayes())\n",
    "])"
   ]
  },
  {
   "cell_type": "code",
   "execution_count": null,
   "id": "eae9c317-cbab-49e8-934c-2e042d9ad5de",
   "metadata": {},
   "outputs": [],
   "source": [
    "pipeline.fit(review_train,label_train)\n",
    "naive_pred = pipeline.predict(review_test)\n",
    "print('Classification Report:',classification_report(label_test,naive_pred))\n",
    "print('Confusion Matrix:',confusion_matrix(label_test,naive_pred))\n",
    "print('Accuracy Score:',accuracy_score(label_test,naive_pred))\n",
    "print('Model Prediction Accuracy:',str(np.round(accuracy_score(label_test,naive_pred)*100,2)) + '%')"
   ]
  },
  {
   "cell_type": "code",
   "execution_count": null,
   "id": "db9c02b3-e77e-42cd-92cf-80aab37c8ccc",
   "metadata": {},
   "outputs": [],
   "source": [
    "classifier = NaiveBayes()\n",
    "pipeline = Pipeline([\n",
    "    ('bow',CountVectorizer(analyzer=text_process)),\n",
    "    ('tfidf',TfidfTransformer()),\n",
    "    ('classifier',classifier)\n",
    "])"
   ]
  },
  {
   "cell_type": "code",
   "execution_count": null,
   "id": "a6b62d8d-4a66-4767-8201-77c632d838d2",
   "metadata": {},
   "outputs": [],
   "source": [
    "pipeline.fit(review_train,label_train)\n",
    "naive_pred = pipeline.predict(review_test)\n",
    "print('Model Prediction Accuracy:',str(np.round(accuracy_score(label_test,naive_pred)*100,2)) + '%')"
   ]
  },
  {
   "cell_type": "markdown",
   "id": "c271ea15-1592-4330-bafd-50618cfe1b80",
   "metadata": {},
   "source": [
    "**K-NN**"
   ]
  },
  {
   "cell_type": "code",
   "execution_count": null,
   "id": "d36e0623-978c-41b3-8051-648e19d97cb6",
   "metadata": {},
   "outputs": [],
   "source": [
    "from sklearn.neighbors import KNeighborsClassifier\n",
    "pipeline = Pipeline([\n",
    "    ('bow',CountVectorizer(analyzer=text_process)),\n",
    "    ('tfidf',TfidfTransformer()),\n",
    "    ('classifier',KNeighborsClassifier(n_neighbors=2))\n",
    "])\n",
    "pipeline.fit(review_train,label_train)\n",
    "knn_pred = pipeline.predict(review_test)\n",
    "print('Classification Report:',classification_report(label_test,knn_pred))\n",
    "print('Confusion Matrix:',confusion_matrix(label_test,knn_pred))\n",
    "print('Accuracy Score:',accuracy_score(label_test,knn_pred))\n",
    "print('Model Prediction Accuracy:',str(np.round(accuracy_score(label_test,knn_pred)*100,2)) + '%')"
   ]
  },
  {
   "cell_type": "markdown",
   "id": "6c83835d-e352-468b-9810-ed69feccaf6c",
   "metadata": {},
   "source": [
    "**SVM**"
   ]
  },
  {
   "cell_type": "code",
   "execution_count": null,
   "id": "8f2bc030-3223-49a0-9dd5-6c8145f13b56",
   "metadata": {},
   "outputs": [],
   "source": [
    "from sklearn.svm import SVC\n",
    "pipeline = Pipeline([\n",
    "    ('bow',CountVectorizer(analyzer=text_process)),\n",
    "    ('tfidf',TfidfTransformer()),\n",
    "    ('classifier',SVC())\n",
    "])\n",
    "pipeline.fit(review_train,label_train)\n",
    "svc_pred = pipeline.predict(review_test)\n",
    "print('Classification Report:',classification_report(label_test,svc_pred))\n",
    "print('Confusion Matrix:',confusion_matrix(label_test,svc_pred))\n",
    "print('Accuracy Score:',accuracy_score(label_test,svc_pred))\n",
    "print('Model Prediction Accuracy:',str(np.round(accuracy_score(label_test,svc_pred)*100,2)) + '%')"
   ]
  },
  {
   "cell_type": "code",
   "execution_count": null,
   "id": "4caebaf2-06a6-41bd-9a90-05094bf85b88",
   "metadata": {},
   "outputs": [],
   "source": []
  },
  {
   "cell_type": "code",
   "execution_count": null,
   "id": "74445a28-1161-4121-8528-66e38b18b0f0",
   "metadata": {},
   "outputs": [],
   "source": []
  },
  {
   "cell_type": "code",
   "execution_count": null,
   "id": "900edb4f-7ab7-4d09-88bd-1f9fd270e671",
   "metadata": {},
   "outputs": [],
   "source": []
  },
  {
   "cell_type": "code",
   "execution_count": null,
   "id": "4466a5f5-c364-471b-814e-537ee4a9b4a3",
   "metadata": {},
   "outputs": [],
   "source": []
  }
 ],
 "metadata": {
  "kernelspec": {
   "display_name": "Python 3 (ipykernel)",
   "language": "python",
   "name": "python3"
  },
  "language_info": {
   "codemirror_mode": {
    "name": "ipython",
    "version": 3
   },
   "file_extension": ".py",
   "mimetype": "text/x-python",
   "name": "python",
   "nbconvert_exporter": "python",
   "pygments_lexer": "ipython3",
   "version": "3.11.7"
  }
 },
 "nbformat": 4,
 "nbformat_minor": 5
}
